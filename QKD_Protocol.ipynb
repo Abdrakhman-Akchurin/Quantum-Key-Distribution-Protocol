{
 "cells": [
  {
   "cell_type": "markdown",
   "metadata": {},
   "source": [
    "# BB84 Quantum Key Distribution (QKD) Protocol"
   ]
  },
  {
   "cell_type": "markdown",
   "metadata": {},
   "source": [
    "Quantum Key Distribution (QKD) is a method used to securely share cryptographic keys between two parties, typically called Alice (the sender) and Bob (the receiver). The security of QKD is guaranteed by the fundamental principles of quantum mechanics, particularly the no-cloning theorem and the uncertainty principle. The BB84 protocol is one of the most well-known and simplest QKD protocols, proposed by Charles Bennett and Gilles Brassard in 1984."
   ]
  },
  {
   "cell_type": "markdown",
   "metadata": {},
   "source": [
    "### Steps of the BB84 Protocol"
   ]
  },
  {
   "cell_type": "markdown",
   "metadata": {},
   "source": [
    "1. Qubit Preparation: Alice encodes random bits into qubits using two possible bases (rectilinear and diagonal).\n",
    "2. Quantum Communication: Alice sends the qubits to Bob over a quantum channel.\n",
    "3. Measurement: Bob randomly measures the qubits using one of the two bases.\n",
    "4. Basis Announcement: Alice and Bob publicly announce their bases and discard mismatched bits.\n",
    "5. Error Checking: They compare a subset of the remaining bits to check for eavesdropping (error detection).\n",
    "6. Key Generation: If the error rate is low, the remaining bits form a secure cryptographic key."
   ]
  },
  {
   "cell_type": "code",
   "execution_count": 27,
   "metadata": {},
   "outputs": [
    {
     "name": "stdout",
     "output_type": "stream",
     "text": [
      "Alice's bits:  [0 1 0 1 1 1 1 1 1 1]\n",
      "Alice's bases:  [1 1 1 1 1 1 1 1 0 0]\n"
     ]
    }
   ],
   "source": [
    "import numpy as np\n",
    "from qiskit import QuantumCircuit, transpile\n",
    "from qiskit_aer import AerSimulator\n",
    "import random\n",
    "import hashlib\n",
    "\n",
    "# Number of qubits (or bits)\n",
    "num_bits = 10\n",
    "error_detection_sample_size = 2\n",
    "\n",
    "# Step 1: Alice generates random bits and random bases\n",
    "alice_bits = np.random.randint(2, size=num_bits)  # Alice's random bits (0 or 1)\n",
    "alice_bases = np.random.randint(2, size=num_bits)  # Alice's random bases (0: rectilinear, 1: diagonal)\n",
    "\n",
    "print(\"Alice's bits: \", alice_bits)\n",
    "print(\"Alice's bases: \", alice_bases)\n"
   ]
  },
  {
   "cell_type": "code",
   "execution_count": 28,
   "metadata": {},
   "outputs": [],
   "source": [
    "def prepare_qubit(bit, basis):\n",
    "    \"\"\"Prepare qubit based on the bit and basis.\"\"\"\n",
    "    qc = QuantumCircuit(1, 1)\n",
    "    if bit == 1:\n",
    "        qc.x(0)  # Apply X gate if bit is 1 (i.e., prepare |1>)\n",
    "    if basis == 1:\n",
    "        qc.h(0)  # Apply Hadamard gate for diagonal basis\n",
    "    return qc\n"
   ]
  },
  {
   "cell_type": "code",
   "execution_count": 29,
   "metadata": {},
   "outputs": [
    {
     "name": "stdout",
     "output_type": "stream",
     "text": [
      "Bob's bases:  [1 1 1 0 1 1 0 0 0 0]\n",
      "Bob's results:  [0, 1, 0, 1, 1, 1, 0, 1, 1, 1]\n"
     ]
    }
   ],
   "source": [
    "# Step 2: Bob generates random bases\n",
    "bob_bases = np.random.randint(2, size=num_bits)  # Bob's random bases (0: rectilinear, 1: diagonal)\n",
    "print(\"Bob's bases: \", bob_bases)\n",
    "\n",
    "# Step 3: Bob measures the qubits\n",
    "def measure_qubit(qc, basis):\n",
    "    \"\"\"Measure qubit in the given basis.\"\"\"\n",
    "    if basis == 1:\n",
    "        qc.h(0)  # Apply Hadamard gate for diagonal basis\n",
    "    qc.measure(0, 0)  # Measure the qubit\n",
    "    return qc\n",
    "\n",
    "\n",
    "# Initialize simulator\n",
    "simulator = AerSimulator()\n",
    "\n",
    "bob_results = []  # Bob's measurement results\n",
    "\n",
    "for i in range(num_bits):\n",
    "    # Step 1: Alice prepares the qubit\n",
    "    qc = prepare_qubit(alice_bits[i], alice_bases[i])\n",
    "    \n",
    "    # Step 2: Bob measures the qubit\n",
    "    qc = measure_qubit(qc, bob_bases[i])\n",
    "    \n",
    "    compiled_circuit = transpile(qc, simulator)\n",
    "    # Step 3: Execute the circuit\n",
    "    result = simulator.run(compiled_circuit, shots=1).result()\n",
    "    counts = result.get_counts()\n",
    "    \n",
    "    # Get Bob's measurement result\n",
    "    measured_bit = int(list(counts.keys())[0])  # Extracting the measured bit (0 or 1)\n",
    "    bob_results.append(measured_bit)\n",
    "\n",
    "print(\"Bob's results: \", bob_results)\n"
   ]
  },
  {
   "cell_type": "code",
   "execution_count": 30,
   "metadata": {},
   "outputs": [
    {
     "name": "stdout",
     "output_type": "stream",
     "text": [
      "Shared key (before error detection):  [0, 1, 0, 1, 1, 1, 1]\n"
     ]
    }
   ],
   "source": [
    "# Step 4: Alice and Bob compare their bases\n",
    "shared_key = []\n",
    "matching_indices = []\n",
    "\n",
    "for i in range(num_bits):\n",
    "    if alice_bases[i] == bob_bases[i]:  # Only keep bits where the bases match\n",
    "        shared_key.append(bob_results[i])\n",
    "        matching_indices.append(i)\n",
    "\n",
    "print(\"Shared key (before error detection): \", shared_key)\n"
   ]
  },
  {
   "cell_type": "markdown",
   "metadata": {},
   "source": [
    "# Error detection"
   ]
  },
  {
   "cell_type": "markdown",
   "metadata": {},
   "source": [
    "Error detection ensures that Alice and Bob can verify the integrity of their shared key and detect any potential eavesdropping attempts by Eve. This is typically done by comparing a portion of the shared key over the classical channel. If too many discrepancies are found, they discard the key."
   ]
  },
  {
   "cell_type": "code",
   "execution_count": 31,
   "metadata": {},
   "outputs": [
    {
     "name": "stdout",
     "output_type": "stream",
     "text": [
      "No errors detected. Proceeding to privacy amplification.\n"
     ]
    }
   ],
   "source": [
    "# Alice and Bob reveal and compare a portion of their shared key to check for errors\n",
    "error_check_indices = random.sample(matching_indices, min(error_detection_sample_size, len(matching_indices)))\n",
    "\n",
    "error_detected = False\n",
    "for index in error_check_indices:\n",
    "    if alice_bits[index] != bob_results[index]:\n",
    "        error_detected = True\n",
    "        print(f\"Error detected at index {index}. Discarding key.\")\n",
    "        break\n",
    "\n",
    "# If errors are detected, discard the key\n",
    "if error_detected:\n",
    "    shared_key = []\n",
    "else:\n",
    "    print(\"No errors detected. Proceeding to privacy amplification.\")"
   ]
  },
  {
   "cell_type": "markdown",
   "metadata": {},
   "source": [
    "# Privacy amplification"
   ]
  },
  {
   "cell_type": "markdown",
   "metadata": {},
   "source": [
    "Privacy amplification is used to reduce the information that an eavesdropper might have learned about the key. This is done by shrinking the shared key using a cryptographic hash function, effectively minimizing any leaked information and producing a shorter, secure key."
   ]
  },
  {
   "cell_type": "code",
   "execution_count": 32,
   "metadata": {},
   "outputs": [
    {
     "name": "stdout",
     "output_type": "stream",
     "text": [
      "Final key (after privacy amplification):  1010010\n"
     ]
    }
   ],
   "source": [
    "# Using a simple cryptographic hash function (SHA-256) to generate a new, shorter key\n",
    "def privacy_amplification(key):\n",
    "    key_str = ''.join(map(str, key))  # Convert key to a string\n",
    "    hash_object = hashlib.sha256(key_str.encode())  # Hash the key string\n",
    "    hashed_key = hash_object.hexdigest()  # Get the hash value in hexadecimal\n",
    "    # Convert the hex digest to a binary string and use the first part as the new key\n",
    "    new_key = bin(int(hashed_key, 16))[2:]  # Convert hex to binary\n",
    "    return new_key[:len(key)]  # Truncate to the original key length (or shorter)\n",
    "\n",
    "if shared_key:\n",
    "    final_key = privacy_amplification(shared_key)\n",
    "    print(\"Final key (after privacy amplification): \", final_key)\n",
    "else:\n",
    "    print(\"No final key generated due to error detection.\")"
   ]
  }
 ],
 "metadata": {
  "kernelspec": {
   "display_name": "base",
   "language": "python",
   "name": "python3"
  },
  "language_info": {
   "codemirror_mode": {
    "name": "ipython",
    "version": 3
   },
   "file_extension": ".py",
   "mimetype": "text/x-python",
   "name": "python",
   "nbconvert_exporter": "python",
   "pygments_lexer": "ipython3",
   "version": "3.12.4"
  }
 },
 "nbformat": 4,
 "nbformat_minor": 2
}
